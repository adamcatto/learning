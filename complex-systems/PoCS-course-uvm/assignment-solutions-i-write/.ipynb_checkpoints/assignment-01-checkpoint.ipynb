{
 "cells": [
  {
   "cell_type": "markdown",
   "metadata": {},
   "source": [
    "# Assignment 01\n",
    "\n",
    "## Problem 02\n",
    "\n",
    "---"
   ]
  },
  {
   "cell_type": "code",
   "execution_count": null,
   "metadata": {},
   "outputs": [],
   "source": [
    "from sklearn import linear_model\n",
    "import numpy as np\n",
    "\n",
    "wr01 = 6+(30.74/60)\n",
    "wr02 = 5+(59.72/60)\n",
    "wr04 = 5+(32.26/60)\n",
    "wr08 = 5+(18.68/60)\n",
    "\n",
    "pair01 = (1,wr01)\n",
    "pair02 = (2,wr02)\n",
    "pair04 = (4,wr04)\n",
    "pair08 = (8,wr08)\n",
    "\n",
    "wrv01 = 2000.0/wr01\n",
    "wrv02 = 2000.0/wr02\n",
    "wrv04 = 2000.0/wr04\n",
    "wrv08 = 2000.0/wr08\n",
    "\n",
    "pairv01 = (1,wrv01)\n",
    "pairv02 = (2,wrv02)\n",
    "pairv04 = (4,wrv04)\n",
    "pairv08 = (8,wrv08)\n",
    "\n",
    "list1=[1,2,4,8]\n",
    "list2=[wrv01,wrv02,wrv04,wrv08]\n",
    "list1fit=[np.log2(x) for x in list1]\n",
    "list2fit=[np.log2(x) for x in list2]\n",
    "\n",
    "reg = linear_model.LinearRegression()\n",
    "reg.fit(list1fit,list2fit)\n",
    "print(reg.coef_)"
   ]
  },
  {
   "cell_type": "code",
   "execution_count": null,
   "metadata": {},
   "outputs": [],
   "source": []
  }
 ],
 "metadata": {
  "kernelspec": {
   "display_name": "Python 3",
   "language": "python",
   "name": "python3"
  },
  "language_info": {
   "codemirror_mode": {
    "name": "ipython",
    "version": 3
   },
   "file_extension": ".py",
   "mimetype": "text/x-python",
   "name": "python",
   "nbconvert_exporter": "python",
   "pygments_lexer": "ipython3",
   "version": "3.7.2"
  }
 },
 "nbformat": 4,
 "nbformat_minor": 4
}
