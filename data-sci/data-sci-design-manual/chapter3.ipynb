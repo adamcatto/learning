{
 "cells": [
  {
   "cell_type": "markdown",
   "metadata": {},
   "source": [
    "# Data Science Design Manual Chapter 3 Exercises\n",
    "\n",
    "This chapter focuses on \"Data Munging\" (AKA \"Data Wrangling\"), i.e. obtaining data from some relevant source, and transforming it into a dataset with some nontrivial structure in order to analyze it using a suite of technologies (e.g. particular programming languages, analytical paradigms, applications).\n",
    "\n",
    "## Implementation Projects\n",
    "\n",
    "---\n",
    "\n",
    "### 3-10\n",
    "\n",
    "*Implement a function that extracts the set of hashtags from a data frame of tweets. Hashtags begin with the “#” character and contain any combination of upper and lowercase characters and digits. Assume the hashtag ends where there is a space or a punctuation mark, like a comma, semicolon, or period.*\n"
   ]
  },
  {
   "cell_type": "markdown",
   "metadata": {},
   "source": [
    "Starting from first principles, we need to figure out a way to import tweets (find a source and request the tweets) and represent them in dataframe format.\n",
    "\n",
    "For our purposes, we may suppose that the tweets are simply strings consisting of 280 characters or less, and dataframes are arrays (no need to use pandas right now...)."
   ]
  },
  {
   "cell_type": "code",
   "execution_count": 54,
   "metadata": {},
   "outputs": [],
   "source": [
    "class TweetFrame:\n",
    "    def __init__(self, tweets):\n",
    "        self.tweets = tweets\n",
    "        \n",
    "    global hashtagApproved \n",
    "    hashtagApproved = 'abcdefghijklmnopqrstuvwxyzABCDEFGHIJKLMNOPQRSTUVWXYZ0123456789'\n",
    "        \n",
    "    def getHashtags(self):\n",
    "        hashtags = set()\n",
    "        hashtag='#'\n",
    "        for tweet in self.tweets:\n",
    "            count=1\n",
    "            partOfHashtag = False\n",
    "            for char in tweet:\n",
    "                if(partOfHashtag == False):\n",
    "                    if(char == '#'):\n",
    "                        partOfHashtag = True\n",
    "                elif(partOfHashtag == True and count != len(tweet)):\n",
    "                    if(char in hashtagApproved):\n",
    "                        hashtag += char\n",
    "                    elif(char=='#'):\n",
    "                        hashtag = hashtag.lower()\n",
    "                        if(hashtag!='#'):\n",
    "                            hashtags.add(hashtag)\n",
    "                        partOfHashtag = True\n",
    "                        hashtag='#'\n",
    "                    else:\n",
    "                        partOfHashtag = False\n",
    "                        # since hashtags are not case-sensitive, we will normalize the hashtags as lower-case in order to avoid redundancy\n",
    "                        hashtag = hashtag.lower()\n",
    "                        if(hashtag != '#'):\n",
    "                            hashtags.add(hashtag)\n",
    "                        hashtag = '#'\n",
    "                else:\n",
    "                    partOfHashtag = False\n",
    "                    hashtag+=char\n",
    "                    # since hashtags are not case-sensitive, we will normalize the hashtags as lower-case in order to avoid redundancy\n",
    "                    hashtag = hashtag.lower()\n",
    "                    if(hashtag != '#'):\n",
    "                        hashtags.add(hashtag)\n",
    "                    hashtag = '#'\n",
    "                count+=1\n",
    "        return hashtags"
   ]
  },
  {
   "cell_type": "markdown",
   "metadata": {},
   "source": [
    "We should now have a function that takes in an \\[ iterable \\] array of tweets and returns a set consisting of all the hashtags in the tweet. Let's test it:"
   ]
  },
  {
   "cell_type": "code",
   "execution_count": 55,
   "metadata": {},
   "outputs": [
    {
     "name": "stdout",
     "output_type": "stream",
     "text": [
      "{'#crying', '#python', '#jupyter', '#ipython', '#awesomesauce', '#jupyternotebooks', '#majorkeyalert'}\n"
     ]
    }
   ],
   "source": [
    "tweetList=[\"wow, I can't believe how lit #Jupyter notebooks are #JupyterNotebooks#Python\", \n",
    "        \"#IPython notebooks are #awesomesauce, can't believe I haven't used them before#crying\",\n",
    "       \"bruh these #JupyterNotebooks are great, I love them #jupyter #majorkeyalert ## # #\"]\n",
    "\n",
    "MyTweets = TweetFrame(tweets=tweetList)\n",
    "\n",
    "print(MyTweets.getHashtags())"
   ]
  },
  {
   "cell_type": "markdown",
   "metadata": {},
   "source": [
    "---"
   ]
  },
  {
   "cell_type": "code",
   "execution_count": null,
   "metadata": {},
   "outputs": [],
   "source": []
  }
 ],
 "metadata": {
  "kernelspec": {
   "display_name": "Python 3",
   "language": "python",
   "name": "python3"
  },
  "language_info": {
   "codemirror_mode": {
    "name": "ipython",
    "version": 3
   },
   "file_extension": ".py",
   "mimetype": "text/x-python",
   "name": "python",
   "nbconvert_exporter": "python",
   "pygments_lexer": "ipython3",
   "version": "3.7.2"
  }
 },
 "nbformat": 4,
 "nbformat_minor": 4
}
